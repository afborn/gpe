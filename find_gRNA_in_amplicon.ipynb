{
 "cells": [
  {
   "cell_type": "code",
   "execution_count": null,
   "metadata": {},
   "outputs": [],
   "source": [
    "# # https://stackoverflow.com/questions/61060337/how-to-loop-through-txt-files-and-search-for-a-specific-string\n",
    "# # CTCACGTCATCCAGCAGAGAA\n",
    "# import glob\n",
    "\n",
    "# files = glob.glob('Logs/*.txt')\n",
    "\n",
    "# string_to_match = 'dataToLookFor'\n",
    "\n",
    "# with open('Logs/results.txt', 'w') as outfile:\n",
    "#     for f in files:\n",
    "#         with open(f, 'r') as infile:\n",
    "#             for line in infile:\n",
    "#                 if string_to_match in line:\n",
    "#                     outfile.write(f'{f}: {line}')"
   ]
  },
  {
   "cell_type": "code",
   "execution_count": null,
   "metadata": {},
   "outputs": [],
   "source": [
    "# #https://bioinformatics.stackexchange.com/questions/14012/split-fasta-file-based-on-groups-in-header-information-and-output-as-separate-fi\n",
    "\n",
    "# from Bio import SeqIO\n",
    "\n",
    "# for record in SeqIO.parse(\"11512AA-583.txt\", \"fasta\"):\n",
    "#     species = record.id.split('_')[0]\n",
    "#     with open(f\"{species}.txt\", \"a\") as f:\n",
    "#         SeqIO.write(record, f, \"fasta\")"
   ]
  },
  {
   "cell_type": "code",
   "execution_count": 1,
   "metadata": {},
   "outputs": [],
   "source": [
    "#https://bioinformatics.stackexchange.com/questions/14012/split-fasta-file-based-on-groups-in-header-information-and-output-as-separate-fi\n",
    "\n",
    "from Bio import SeqIO\n",
    "\n",
    "for record in SeqIO.parse(\"11512AA-583.txt\", \"fasta\"):\n",
    "    identifier = record.id\n",
    "    with open(f\"{identifier}.txt\", \"a\") as f:\n",
    "        SeqIO.write(record, f, \"fasta\")"
   ]
  },
  {
   "cell_type": "code",
   "execution_count": 2,
   "metadata": {},
   "outputs": [
    {
     "name": "stdout",
     "output_type": "stream",
     "text": [
      "string not found in file B2MKO-Cl1.Fw.txt\n",
      "string not found in file B2MKO-Cl12.Fw.txt\n",
      "string not found in file B2MKO-Cl36.Fw.txt\n",
      "string not found in file B2MKO-Cl47.Fw.txt\n"
     ]
    }
   ],
   "source": [
    "# https://stackoverflow.com/questions/34530237/find-files-in-a-directory-containing-desired-string-in-python\n",
    "    \n",
    "import os\n",
    "\n",
    "#user_input = 'gRNA_in_amplicon'\n",
    "#directory = os.listdir(user_input)\n",
    "\n",
    "directory = os.listdir()\n",
    "\n",
    "searchstring = 'TTACTCACGTCATCCAGCA'\n",
    "\n",
    "for fname in directory:\n",
    "#    print(os.path.isfile(fname))\n",
    "    if os.path.isfile(fname):\n",
    "        # Full path\n",
    "        f = open(fname, 'r')\n",
    "\n",
    "        if searchstring not in f.read():\n",
    "             print('string not found in file %s' % fname)\n",
    "#         else:\n",
    "#              print('string not found in file %s' % fname)\n",
    "        f.close()"
   ]
  },
  {
   "cell_type": "code",
   "execution_count": null,
   "metadata": {},
   "outputs": [],
   "source": []
  }
 ],
 "metadata": {
  "kernelspec": {
   "display_name": "Python 3",
   "language": "python",
   "name": "python3"
  },
  "language_info": {
   "codemirror_mode": {
    "name": "ipython",
    "version": 3
   },
   "file_extension": ".py",
   "mimetype": "text/x-python",
   "name": "python",
   "nbconvert_exporter": "python",
   "pygments_lexer": "ipython3",
   "version": "3.7.6"
  }
 },
 "nbformat": 4,
 "nbformat_minor": 4
}
